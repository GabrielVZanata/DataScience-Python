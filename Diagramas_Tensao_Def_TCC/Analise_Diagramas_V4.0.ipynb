{
 "cells": [
  {
   "cell_type": "markdown",
   "id": "5a338e35",
   "metadata": {},
   "source": [
    "# Código para Geração dos Diagramas Tensão x Deformação das Amostras - TCC - Reuso do Aço"
   ]
  },
  {
   "cell_type": "markdown",
   "id": "7c3c583d",
   "metadata": {},
   "source": [
    "#### Gabriel Valverde - Eng. Civil - Poli"
   ]
  },
  {
   "cell_type": "code",
   "execution_count": 1,
   "id": "30cd9103",
   "metadata": {},
   "outputs": [],
   "source": [
    "#Importando as bibliotecas necessárias\n",
    "import matplotlib.pyplot as plt\n",
    "import numpy as np\n",
    "import pandas as pd\n",
    "import random\n",
    "\n",
    "#Ignorando warnings para diminuir a poluição do terminal\n",
    "import warnings\n",
    "warnings.filterwarnings('ignore')"
   ]
  },
  {
   "cell_type": "code",
   "execution_count": 2,
   "id": "7f2415bd",
   "metadata": {},
   "outputs": [],
   "source": [
    "#Lendo tabelas excel com os dados de tração (devem estar na mesma pasta do código)\n",
    "# df = pd.read_csv(\"EnsaioTracao_dataset.xlsx\")\n",
    "dfp = pd.read_csv(\"EnsaioTracao_base.csv\")"
   ]
  },
  {
   "cell_type": "code",
   "execution_count": 3,
   "id": "95b12d00",
   "metadata": {},
   "outputs": [
    {
     "data": {
      "text/plain": [
       "Index(['5_1_F', '5_1_D', '7_1_F', '7_1_D', '8_1_F', '8_1_D', '10_1_F',\n",
       "       '10_1_D', '9_1_F', '9_1_D', '9_2_F', '9_2_D', '24_1_F', '24_1_D',\n",
       "       '1_1_F', '1_1_D', '1_2_F', '1_2_D', '2_1_F', '2_1_D', '20_1_F',\n",
       "       '20_1_D', '19_1_F', '19_1_D'],\n",
       "      dtype='object')"
      ]
     },
     "execution_count": 3,
     "metadata": {},
     "output_type": "execute_result"
    }
   ],
   "source": [
    "# Descobrindo a nomenclatura das colunas do DataFrame\n",
    "dfp.columns"
   ]
  },
  {
   "cell_type": "code",
   "execution_count": 4,
   "id": "ffcc5cd3",
   "metadata": {},
   "outputs": [],
   "source": [
    "#Definir os diâmetros de bitola de cada barra na ordem em que aparecem no data frame\n",
    "bitolas=[6.71,6.61,6.47,7.96,12.33,12.33,12.48,15.93,15.91,15.99,16.01,23.05]"
   ]
  },
  {
   "cell_type": "code",
   "execution_count": 86,
   "id": "14e55e0c",
   "metadata": {},
   "outputs": [],
   "source": [
    "#Função para conversão de força para tensão\n",
    "def to_tension(df,bt):\n",
    "\n",
    "    df_t = df.copy()\n",
    "\n",
    "    #Cálculo de áreas de cada barra\n",
    "    areas = []\n",
    "    for x in bt:\n",
    "        area = (x**2)*np.pi/4\n",
    "        areas.append(area)\n",
    "    areas = np.array(areas)\n",
    "    #print(areas)\n",
    "\n",
    "    #Conversão dos valores de força do DataFrame para tensão \n",
    "    df_aux = df.iloc[:,::2] * 1000 / (areas)\n",
    "\n",
    "    #Substituindo os valores de força do DataFrame para tensão\n",
    "    df_t.iloc[:,::2] = df_aux.iloc[:,:]\n",
    "\n",
    "    return df_t"
   ]
  },
  {
   "cell_type": "code",
   "execution_count": 8,
   "id": "2fff6bd3",
   "metadata": {},
   "outputs": [],
   "source": [
    "dfp_t = to_tension(dfp, bitolas)"
   ]
  },
  {
   "cell_type": "code",
   "execution_count": 87,
   "id": "3ef8b9cf",
   "metadata": {},
   "outputs": [],
   "source": [
    "\n",
    "# Função de identificação do trecho linear e coeficientes da equação da reta\n",
    "def linearize_diag (df, min_rsq=0.9996, int_size=300):\n",
    "    s = len(df.columns)\n",
    "    lista_1 = []\n",
    "    lista_2 = []\n",
    "\n",
    "    rsq_min = min_rsq   # R2 mínimo a ser buscado - quanto mais próximo de 1.0 mais linear o trecho \n",
    "                        # mas o programa pode não encontrar trecho tão linear, gerando erros. Não exagere.\n",
    "\n",
    "    # Loop para buscar e registrar o trecho mais linear (maior R²) para cada par Tensão x Deformação\n",
    "    for i in range(0,s,2):\n",
    "        y = i\n",
    "        x = y + 1\n",
    "        t = len(df.iloc[:,x])\n",
    "        R2  = False\n",
    "\n",
    "        med = df.count()\n",
    "        med = med.tolist()\n",
    "        w1 = med[x]\n",
    "\n",
    "        while w1 > 0 and not R2:\n",
    "            w1 = w1 - 50                # Passo de busca ao longo do data frame\n",
    "            w2 = w1 + int_size          # Tamanho do trecho a ser estudado (ALTERAR caso não obtenha o resultado desejado no plot)\n",
    "            deform = df.iloc[w1:w2,x]\n",
    "            tens = df.iloc[w1:w2,y]\n",
    "\n",
    "            corr_matrix = np.corrcoef(deform, tens)\n",
    "            corr = corr_matrix[0,1]\n",
    "            R_sq = corr**2\n",
    "\n",
    "            if R_sq >= rsq_min:          \n",
    "\n",
    "                #print(df.columns[y], \"R² = \", R_sq, \"w1:w2 = \", w1, \":\", w2)\n",
    "                y0 = df.iloc[w1,y]\n",
    "                x0 = df.iloc[w1,x]\n",
    "                y1 = df.iloc[w2,y]\n",
    "                x1 = df.iloc[w2,x]\n",
    "\n",
    "                x_un = [x0,x1]\n",
    "                y_un = [y0,y1]\n",
    "                coeff = np.polyfit(x_un, y_un, 1)\n",
    "\n",
    "                if coeff[1] < 0:        # Garantir que o trecho pré escoamento seja ajustado\n",
    "                    red = -coeff[1]/coeff[0]\n",
    "                    lista_2.append(red)\n",
    "                    lista_1.append(w1)\n",
    "                    lista_1.append(w2)\n",
    "                    R2 = True\n",
    "\n",
    "\n",
    "                \n",
    "                \n",
    "            \n",
    "        #if not R2:\n",
    "            #print(df.columns[y], \"R² = Não Encontrado\")\n",
    " \n",
    "    return [lista_1,lista_2]\n"
   ]
  },
  {
   "cell_type": "code",
   "execution_count": 88,
   "id": "3d639187",
   "metadata": {},
   "outputs": [],
   "source": [
    "# Função para correção completa do diagrama, utiliza a função linearize e pode utilizar a função cut_end\n",
    "def correct_diag(df, cut=False, min_rsq = 0.9996, int_size=300):\n",
    "\n",
    "    lista_lin = linearize_diag(df, min_rsq, int_size)[0]\n",
    "    lista_coefs = linearize_diag(df, min_rsq, int_size)[1]\n",
    "    df_aux = df.copy()\n",
    "    df_corr = df.copy() \n",
    "\n",
    "    s = len(df.columns)\n",
    "    lista_corrigida = []\n",
    "\n",
    "    # Corrige a curva, subtrai coeficientes\n",
    "    df_aux = df.iloc[:,1::2] - lista_coefs\n",
    "\n",
    "    df_corr.iloc[:,1::2] = df_aux.iloc[:,:]\n",
    "\n",
    "    for i in range(0,s,2):\n",
    "        y = i\n",
    "        x = y + 1\n",
    "\n",
    "        fim_F = df_corr.iloc[(lista_lin[i+1]-1):,y]\n",
    "        fim_D = df_corr.iloc[(lista_lin[i+1]-1):,x]\n",
    "\n",
    "        fim_F = fim_F.tolist()\n",
    "        fim_D = fim_D.tolist()\n",
    "\n",
    "        fim_D[0] = 0\n",
    "        fim_F[0] = 0\n",
    "\n",
    "        lista_corrigida.append(fim_F)\n",
    "        lista_corrigida.append(fim_D) \n",
    "    \n",
    "    cols = df.columns\n",
    "    df_corr = pd.DataFrame(lista_corrigida).transpose()\n",
    "    df_corr.columns = cols\n",
    "\n",
    "    # Cortando o resíduo final do diagrama, necessário chamar nos argumentos\n",
    "    if cut:\n",
    "        df_corr = cut_end(df_corr)\n",
    "\n",
    "    return df_corr"
   ]
  },
  {
   "cell_type": "code",
   "execution_count": 89,
   "id": "82dbc1b1",
   "metadata": {},
   "outputs": [],
   "source": [
    "# Função para remoção do resíduo gráfico após o rompimento\n",
    "def cut_end(df):\n",
    "    df_cut = df.copy()\n",
    "    s = len(df.columns)\n",
    "    c = 0.85        # Parâmetro de corte em % de queda, alterar conforme desejado\n",
    "\n",
    "    for i in range(0,s,2):\n",
    "        y = i\n",
    "        x = y + 1\n",
    "\n",
    "        t = df_cut.iloc[:,i].count()\n",
    "        r_indx = df_cut.loc[df_cut.iloc[:,i] == df_cut.iloc[:,i].max()].index[0]\n",
    "        w1 = r_indx\n",
    "        cut = False\n",
    "\n",
    "        while w1 < t and not cut:\n",
    "            w1 = w1 + 1\n",
    "            w2 = w1 + 1\n",
    "\n",
    "            d1 = df_cut.iloc[w1,y]\n",
    "            d2 = df_cut.iloc[w2,y]\n",
    "            \n",
    "            if d2 < c*d1:        \n",
    "                df_cut.iloc[w1:,y] = np.nan\n",
    "                df_cut.iloc[w1:,x] = np.nan\n",
    "                cut = True\n",
    "    \n",
    "    return df_cut\n",
    "\n",
    "        "
   ]
  },
  {
   "cell_type": "code",
   "execution_count": 90,
   "id": "b0895452",
   "metadata": {},
   "outputs": [],
   "source": [
    "# Obtendo os dados corrigidos conforme a teoria\n",
    "dfc_t = correct_diag(dfp_t, cut=True, min_rsq=0.9996, int_size=300)"
   ]
  },
  {
   "cell_type": "code",
   "execution_count": 97,
   "id": "bec504c9",
   "metadata": {},
   "outputs": [],
   "source": [
    "# Função para plotar barras individualmente recebe (dataframe, \n",
    "# índice da barra desejada (0 a 11), observação a ser adicionada ao título)\n",
    "\n",
    "def plot_bar(df, numbar=0, obs=\"\", save=False, folder=\"\"):\n",
    "    plt.style.use('_mpl-gallery')\n",
    "    barras = list(df.columns)\n",
    "    ny = numbar*2\n",
    "    nx = ny + 1\n",
    "\n",
    "    plot_title = \"Diagrama Tensão x Deformação - Amostra \" + barras[ny][0:-2]\n",
    "    fig_title = str(folder) + barras[ny][0:-2]\n",
    "    if obs != \"\":\n",
    "        plot_title = plot_title + \" \" + obs\n",
    "        fig_title = fig_title + obs[1]\n",
    "    \n",
    "    #Plotando\n",
    "    g = df.plot(x=barras[nx], y=barras[ny], xlabel=\"Deformação (mm)\", \\\n",
    "                ylabel=\"Tensão (MPa)\", title=plot_title, figsize=(6,3), legend=None).get_figure()\n",
    "    \n",
    "    if save:\n",
    "        #Salvando gráfico já nomeado\n",
    "        g.savefig(fig_title, bbox_inches=\"tight\")\n"
   ]
  },
  {
   "cell_type": "code",
   "execution_count": null,
   "id": "3cdfcad5",
   "metadata": {},
   "outputs": [],
   "source": [
    "# Loop para chamar a função acima para plotar cada uma das 12 amostras corrigidas\n",
    "for x in range(12):\n",
    "    plot_bar(dfc_t,x, save=True, folder=\"plots/\")"
   ]
  },
  {
   "cell_type": "code",
   "execution_count": null,
   "id": "381c6964",
   "metadata": {},
   "outputs": [],
   "source": [
    "# Loop para chamar a função de plot para cada uma das 12 amostras não corrigidas\n",
    "for x in range(12):\n",
    "    plot_bar(dfp_t,x,\"(Não Corrigido)\", save=True, folder=\"plots/\")"
   ]
  },
  {
   "cell_type": "code",
   "execution_count": 94,
   "id": "bd3e7b92",
   "metadata": {},
   "outputs": [],
   "source": [
    "#Função para mapeamento do espectro RGB\n",
    "def get_cmap(n, name='hsv'):\n",
    "    return plt.cm.get_cmap(name, n)"
   ]
  },
  {
   "cell_type": "code",
   "execution_count": 100,
   "id": "54bed810",
   "metadata": {},
   "outputs": [],
   "source": [
    "# Função para plotar grupos de amostras na mesma figura, recebe(dataframe, lista com os índices das amostras a serem plotadas,\n",
    "# observação com o nome do grupo de amostras, corr True para corrigidas e False para não corrigidas )\n",
    "\n",
    "def plot_grupo (df, lista, obs=\"\", group_name=\"\", save=False, folder=\"\"):\n",
    "\n",
    "    plt.style.use('_mpl-gallery')\n",
    "    fig = plt.figure(figsize=(7,5))\n",
    "    ax = fig.add_subplot(111)\n",
    "    barras = list(df.columns)  \n",
    "\n",
    "    \n",
    "    plot_title = \"Diagrama Tensão x Deformação - \" + group_name\n",
    "    fig_title = str(folder) + str(group_name)\n",
    "    if obs != \"\":\n",
    "        plot_title = plot_title + \" \" + obs\n",
    "        fig_title = fig_title + obs[1]    \n",
    "    \n",
    "    plt.title(plot_title)\n",
    "    plt.xlabel(\"Deformação (mm)\")\n",
    "    plt.ylabel(\"Tensão (MPa)\")\n",
    "\n",
    "    loop = lista\n",
    "    color = get_cmap(12)\n",
    "    legend = []\n",
    "    cor = [0,6,1,7,2,8,3,9,4,10,5,11]\n",
    "    \n",
    "    for x in loop:\n",
    "        ny = x*2\n",
    "        nx = ny + 1\n",
    "        xa = barras[nx]\n",
    "        ya = barras[ny]\n",
    "        leg = ya[0:-2]\n",
    "        legend.append(leg)\n",
    "        ax.plot(df[xa], df[ya], c=color(cor[x]))\n",
    "        \n",
    "    ax.legend(legend)\n",
    "    \n",
    "    if save:\n",
    "        #Salvando gráfico já nomeado\n",
    "        fig.savefig(fig_title, bbox_inches=\"tight\")\n",
    "    plt.show()"
   ]
  },
  {
   "cell_type": "code",
   "execution_count": null,
   "id": "b4479df8",
   "metadata": {},
   "outputs": [],
   "source": [
    "# Chamando a função plot_grupo para cada um dos grupos desejados\n",
    "\n",
    "plot_grupo(dfc_t,[0,1,2,3],group_name=\"Amostras de 6,3 a 8mm\",save=True,folder=\"plots/\")\n",
    "plot_grupo(dfp_t,[0,1,2,3],group_name=\"Amostras de 6,3 a 8mm\",obs=\"(Não Corrigido)\", save=True, folder=\"plots/\")\n",
    "plot_grupo(dfc_t,[4,5,6],group_name=\"Amostras de 12,5mm\",save=True,folder=\"plots/\")\n",
    "plot_grupo(dfp_t,[4,5,6],group_name=\"Amostras de 12,5mm\",obs=\"(Não Corrigido)\",save=True,folder=\"plots/\")\n",
    "plot_grupo(dfc_t,[7,8,9,10],group_name=\"Amostras de 16mm\",save=True,folder=\"plots/\")\n",
    "plot_grupo(dfp_t,[7,8,9,10],group_name=\"Amostras de 16mm\",obs=\"(Não Corrigido)\",save=True,folder=\"plots/\")\n",
    "plot_grupo(dfc_t,[11],group_name=\"Amostra de 22mm\",save=True,folder=\"plots/\")\n",
    "plot_grupo(dfp_t,[11],group_name=\"Amostra de 22mm\",obs=\"(Não Corrigido)\",save=True,folder=\"plots/\")\n",
    "plot_grupo(dfp_t,[0,1,2,3,4,5,6,7,8,9,10,11],group_name=\"Visão Geral\",obs=\"(Não Corrigido)\",save=True,folder=\"plots/\")\n",
    "plot_grupo(dfc_t,[0,1,2,3,4,5,6,7,8,9,10,11],group_name=\"Visão Geral\",save=True,folder=\"plots/\")"
   ]
  },
  {
   "cell_type": "code",
   "execution_count": null,
   "id": "8196e90b",
   "metadata": {},
   "outputs": [],
   "source": [
    "# Chamando a função plot_grupo para os grupos reprovados\n",
    "plot_grupo(dfc_t,[0,1,2,10,11],group_name=\"Amostras Reprovadas em 10 ɸ\",save=True,folder=\"plots/\")\n",
    "plot_grupo(dfc_t,[3,4],group_name=\"Amostras Reprovadas em Alongamento na Força Máxima\",save=True,folder=\"plots/\")"
   ]
  }
 ],
 "metadata": {
  "kernelspec": {
   "display_name": "base",
   "language": "python",
   "name": "python3"
  },
  "language_info": {
   "codemirror_mode": {
    "name": "ipython",
    "version": 3
   },
   "file_extension": ".py",
   "mimetype": "text/x-python",
   "name": "python",
   "nbconvert_exporter": "python",
   "pygments_lexer": "ipython3",
   "version": "3.9.13"
  },
  "vscode": {
   "interpreter": {
    "hash": "45c91a70b04ec8d23d4bf485d6e4c69b7353ab8cf3a98e9a97422378c5c01fb8"
   }
  }
 },
 "nbformat": 4,
 "nbformat_minor": 5
}
