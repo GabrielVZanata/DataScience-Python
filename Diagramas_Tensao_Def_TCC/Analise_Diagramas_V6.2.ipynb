{
 "cells": [
  {
   "cell_type": "markdown",
   "id": "5a338e35",
   "metadata": {},
   "source": [
    "# Código para Geração dos Diagramas Tensão x Deformação das Amostras - TCC - Reuso do Aço"
   ]
  },
  {
   "cell_type": "markdown",
   "id": "7c3c583d",
   "metadata": {},
   "source": [
    "#### Gabriel Valverde - Eng. Civil - Poli"
   ]
  },
  {
   "cell_type": "code",
   "execution_count": 1,
   "id": "30cd9103",
   "metadata": {},
   "outputs": [],
   "source": [
    "# Importando a bibliteca pyTensileTest\n",
    "# %pip install pyTensileTest\n",
    "import pyTensileTest as ptt\n",
    "\n",
    "#Ignorando warnings para diminuir a poluição do terminal\n",
    "import warnings\n",
    "warnings.filterwarnings('ignore')"
   ]
  },
  {
   "cell_type": "code",
   "execution_count": 2,
   "id": "57b7f012",
   "metadata": {},
   "outputs": [],
   "source": [
    "#Lendo os dados do ensaio (devem estar na mesma pasta do código)\n",
    "dfp = ptt.read_testdata(\"Tracao_acos.csv\", encoding=\"ANSI\")"
   ]
  },
  {
   "cell_type": "code",
   "execution_count": 3,
   "id": "0ac790a1",
   "metadata": {},
   "outputs": [
    {
     "data": {
      "text/plain": [
       "Index(['5_1_F', '5_1_D', '7_1_F', '7_1_D', '8_1_F', '8_1_D', '10_1_F',\n",
       "       '10_1_D', '9_1_F', '9_1_D', '9_2_F', '9_2_D', '24_1_F', '24_1_D',\n",
       "       '1_1_F', '1_1_D', '1_2_F', '1_2_D', '2_1_F', '2_1_D', '20_1_F',\n",
       "       '20_1_D', '19_1_F', '19_1_D'],\n",
       "      dtype='object')"
      ]
     },
     "execution_count": 3,
     "metadata": {},
     "output_type": "execute_result"
    }
   ],
   "source": [
    "# Descobrindo a nomenclatura das colunas do DataFrame\n",
    "dfp.columns"
   ]
  },
  {
   "cell_type": "code",
   "execution_count": 4,
   "id": "0c109e71",
   "metadata": {},
   "outputs": [],
   "source": [
    "#Definir os diâmetros de bitola de cada barra na ordem em que aparecem no data frame\n",
    "bitolas=[6.71,6.61,6.47,7.96,12.33,12.33,12.48,15.93,15.91,15.99,16.01,23.05]"
   ]
  },
  {
   "cell_type": "code",
   "execution_count": 6,
   "id": "6872532a",
   "metadata": {},
   "outputs": [],
   "source": [
    "# Alterando força para tração\n",
    "dfp_t = ptt.to_tension(dfp, bitolas)"
   ]
  },
  {
   "cell_type": "code",
   "execution_count": 7,
   "id": "ddf909c3",
   "metadata": {},
   "outputs": [],
   "source": [
    "# Obtendo os dados corrigidos conforme a teoria\n",
    "dfc_t = ptt.correct_diag(dfp, cut=True, min_rsq=0.9996, int_size=300, correct_force=True, diam=bitolas)"
   ]
  },
  {
   "cell_type": "code",
   "execution_count": null,
   "id": "ce3d5bfb",
   "metadata": {},
   "outputs": [],
   "source": [
    "ptt.get_info(dfc_t,0)\n"
   ]
  },
  {
   "cell_type": "code",
   "execution_count": null,
   "id": "3cdfcad5",
   "metadata": {},
   "outputs": [],
   "source": [
    "# Loop para chamar a função acima para plotar cada uma das 12 amostras corrigidas\n",
    "for x in range(12):\n",
    "    ptt.plot_sample(dfc_t,x, save=True, folder=\"plots/\", info=False)"
   ]
  },
  {
   "cell_type": "code",
   "execution_count": null,
   "id": "381c6964",
   "metadata": {},
   "outputs": [],
   "source": [
    "# Loop para chamar a função de plot para cada uma das 12 amostras não corrigidas\n",
    "for x in range(12):\n",
    "    ptt.plot_sample(dfp_t,x,\"(Não Corrigido)\", save=True, folder=\"plots/\")"
   ]
  },
  {
   "cell_type": "code",
   "execution_count": null,
   "id": "b4479df8",
   "metadata": {},
   "outputs": [],
   "source": [
    "# Chamando a função plot_grupo para cada um dos grupos desejados\n",
    "\n",
    "ptt.plot_group(dfc_t,[0,1,2,3],group_name=\"Amostras de 6,3 a 8mm\",save=False,folder=\"plots/\")\n",
    "ptt.plot_group(dfp_t,[0,1,2,3],group_name=\"Amostras de 6,3 a 8mm\",obs=\"(Não Corrigido)\", save=False, folder=\"plots/\")\n",
    "ptt.plot_group(dfc_t,[4,5,6],group_name=\"Amostras de 12,5mm\",save=False,folder=\"plots/\")\n",
    "ptt.plot_group(dfp_t,[4,5,6],group_name=\"Amostras de 12,5mm\",obs=\"(Não Corrigido)\",save=False,folder=\"plots/\")\n",
    "ptt.plot_group(dfc_t,[7,8,9,10],group_name=\"Amostras de 16mm\",save=False,folder=\"plots/\")\n",
    "ptt.plot_group(dfp_t,[7,8,9,10],group_name=\"Amostras de 16mm\",obs=\"(Não Corrigido)\",save=False,folder=\"plots/\")\n",
    "ptt.plot_group(dfc_t,[11],group_name=\"Amostra de 22mm\",save=False,folder=\"plots/\")\n",
    "ptt.plot_group(dfp_t,[11],group_name=\"Amostra de 22mm\",obs=\"(Não Corrigido)\",save=False,folder=\"plots/\")\n",
    "ptt.plot_group(dfp_t,[0,1,2,3,4,5,6,7,8,9,10,11],group_name=\"Visão Geral\",obs=\"(Não Corrigido)\",save=False,folder=\"plots/\")\n",
    "ptt.plot_group(dfc_t,[0,1,2,3,4,5,6,7,8,9,10,11],group_name=\"Visão Geral\",save=False,folder=\"plots/\")"
   ]
  },
  {
   "cell_type": "code",
   "execution_count": null,
   "id": "8196e90b",
   "metadata": {},
   "outputs": [],
   "source": [
    "# Chamando a função plot_grupo para os grupos reprovados\n",
    "ptt.plot_group(dfc_t,[0,1,2,10,11],group_name=\"Amostras Reprovadas em 10 ɸ\",save=False,folder=\"plots/\")\n",
    "ptt.plot_group(dfc_t,[3,4],group_name=\"Amostras Reprovadas em Alongamento na Força Máxima\",save=False,folder=\"plots/\")"
   ]
  }
 ],
 "metadata": {
  "kernelspec": {
   "display_name": "base",
   "language": "python",
   "name": "python3"
  },
  "language_info": {
   "codemirror_mode": {
    "name": "ipython",
    "version": 3
   },
   "file_extension": ".py",
   "mimetype": "text/x-python",
   "name": "python",
   "nbconvert_exporter": "python",
   "pygments_lexer": "ipython3",
   "version": "3.9.13"
  },
  "vscode": {
   "interpreter": {
    "hash": "45c91a70b04ec8d23d4bf485d6e4c69b7353ab8cf3a98e9a97422378c5c01fb8"
   }
  }
 },
 "nbformat": 4,
 "nbformat_minor": 5
}
